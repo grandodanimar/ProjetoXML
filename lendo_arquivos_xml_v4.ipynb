{
 "cells": [
  {
   "cell_type": "markdown",
   "metadata": {
    "id": "61AT4ybn6uZy"
   },
   "source": [
    "## Script"
   ]
  },
  {
   "cell_type": "code",
   "execution_count": null,
   "metadata": {
    "executionInfo": {
     "elapsed": 1492,
     "status": "ok",
     "timestamp": 1737997409160,
     "user": {
      "displayName": "Danimar Grando",
      "userId": "18353145578900037992"
     },
     "user_tz": 180
    },
    "id": "VI1ZAe2UXWuc"
   },
   "outputs": [],
   "source": [
    "import pandas as pd\n",
    "import os\n",
    "from io import StringIO\n",
    "import xml.etree.ElementTree as ET\n"
   ]
  },
  {
   "cell_type": "code",
   "execution_count": null,
   "metadata": {
    "executionInfo": {
     "elapsed": 6,
     "status": "ok",
     "timestamp": 1737997409161,
     "user": {
      "displayName": "Danimar Grando",
      "userId": "18353145578900037992"
     },
     "user_tz": 180
    },
    "id": "c3dQfMBt21ye"
   },
   "outputs": [],
   "source": [
    "# Versões dos pacotes usados neste jupyter notebook\n",
    "#%reload_ext watermark\n",
    "#%watermark -a \"Danimar Grando\""
   ]
  },
  {
   "cell_type": "code",
   "execution_count": null,
   "metadata": {
    "executionInfo": {
     "elapsed": 6,
     "status": "ok",
     "timestamp": 1737997409161,
     "user": {
      "displayName": "Danimar Grando",
      "userId": "18353145578900037992"
     },
     "user_tz": 180
    },
    "id": "LivVzdIGiEMY"
   },
   "outputs": [],
   "source": [
    "# Namespace do XML\n",
    "ns = {'nfe': 'http://www.portalfiscal.inf.br/nfe'}"
   ]
  },
  {
   "cell_type": "code",
   "execution_count": null,
   "metadata": {
    "executionInfo": {
     "elapsed": 5,
     "status": "ok",
     "timestamp": 1737997409161,
     "user": {
      "displayName": "Danimar Grando",
      "userId": "18353145578900037992"
     },
     "user_tz": 180
    },
    "id": "6XhYn4Z-uIQP"
   },
   "outputs": [],
   "source": [
    "# Carrega dados do diretório\n",
    "diretorio = 'arquivos_xml'"
   ]
  },
  {
   "cell_type": "code",
   "execution_count": null,
   "metadata": {
    "executionInfo": {
     "elapsed": 6,
     "status": "ok",
     "timestamp": 1737997409162,
     "user": {
      "displayName": "Danimar Grando",
      "userId": "18353145578900037992"
     },
     "user_tz": 180
    },
    "id": "HzDSb24ouIQQ"
   },
   "outputs": [],
   "source": [
    "# Cria uma lista vazia para posteriormente converter em Dataframe para armazenar os dados\n",
    "dataframes = []"
   ]
  },
  {
   "cell_type": "code",
   "execution_count": null,
   "metadata": {
    "executionInfo": {
     "elapsed": 679,
     "status": "ok",
     "timestamp": 1737997409836,
     "user": {
      "displayName": "Danimar Grando",
      "userId": "18353145578900037992"
     },
     "user_tz": 180
    },
    "id": "mUJdn_OLuIQQ"
   },
   "outputs": [],
   "source": [
    "# Iterar pelos arquivos no diretório\n",
    "for arquivo in os.listdir(diretorio):\n",
    "    if arquivo.endswith(\".xml\"):  # Filtra apenas arquivos XML\n",
    "        caminho_completo = os.path.join(diretorio, arquivo)\n",
    "\n",
    "        # Lendo os arquivos\n",
    "        tree = ET.parse(caminho_completo)\n",
    "        root = tree.getroot()\n",
    "\n",
    "        # Inicializar variáveis gerais da nota fiscal\n",
    "        chave_acesso = numero_nota = nat_op = data_emissao = None\n",
    "        emitente_nome = cnpj_emitente = uf_emitente = destinatario_nome = cnpj_destinatario = uf_destinatario = None\n",
    "\n",
    "        # Capturar a chave de acesso\n",
    "        protNFe = root.find('.//nfe:protNFe/nfe:infProt', ns)\n",
    "        if protNFe is not None:\n",
    "            chave_acesso = protNFe.find('nfe:chNFe', ns).text if protNFe.find('nfe:chNFe', ns) is not None else None\n",
    "\n",
    "        # Capturar os dados gerais da NF\n",
    "        ide = root.find('.//nfe:infNFe/nfe:ide', ns)\n",
    "        if ide is not None:\n",
    "            numero_nota = ide.find('nfe:nNF', ns).text if ide.find('nfe:nNF', ns) is not None else None\n",
    "            nat_op = ide.find('nfe:natOp', ns).text if ide.find('nfe:natOp', ns) is not None else None\n",
    "            data_emissao = ide.find('nfe:dhEmi', ns).text if ide.find('nfe:dhEmi', ns) is not None else None\n",
    "\n",
    "        # Capturar os dados do emitente\n",
    "        emit = root.find('.//nfe:infNFe/nfe:emit', ns)\n",
    "        if emit is not None:\n",
    "            emitente_nome = emit.find('nfe:xNome', ns).text if emit.find('nfe:xNome', ns) is not None else None\n",
    "            cnpj_emitente = emit.find('nfe:CNPJ', ns).text if emit.find('nfe:CNPJ', ns) is not None else None\n",
    "        \n",
    "        # Dados do endereço do emitente\n",
    "        enderEmit = root.find('.//nfe:emit/nfe:enderEmit', ns)\n",
    "        if enderEmit is not None:\n",
    "            uf_emitente = enderEmit.find('nfe:UF', ns).text if enderEmit.find('nfe:UF', ns) is not None else None   \n",
    "        \n",
    "\n",
    "        # Capturar os dados do destinatário\n",
    "        dest = root.find('.//nfe:infNFe/nfe:dest', ns)\n",
    "        if dest is not None:\n",
    "            destinatario_nome = dest.find('nfe:xNome', ns).text if dest.find('nfe:xNome', ns) is not None else None\n",
    "            cnpj_destinatario = dest.find('nfe:CNPJ', ns).text if dest.find('nfe:CNPJ', ns) is not None else None\n",
    "            \n",
    "        # Dados do endereço do emitente\n",
    "        enderDest = root.find('.//nfe:dest/nfe:enderDest', ns)\n",
    "        if enderDest is not None:\n",
    "            uf_destinatario = enderDest.find('nfe:UF', ns).text if enderDest.find('nfe:UF', ns) is not None else None  \n",
    "\n",
    "        # Capturar os dados de cada produto\n",
    "        for det in root.findall('.//nfe:det', ns):\n",
    "            produtos = det.find('nfe:prod', ns)\n",
    "            if produtos is not None:\n",
    "                cod_ean = produtos.find('nfe:cEAN', ns).text if produtos.find('nfe:cEAN', ns) is not None else None\n",
    "                nome_produto = produtos.find('nfe:xProd', ns).text if produtos.find('nfe:xProd', ns) is not None else None\n",
    "                ncm = produtos.find('nfe:NCM', ns).text if produtos.find('nfe:NCM', ns) is not None else None\n",
    "                cest = produtos.find('nfe:CEST', ns).text if produtos.find('nfe:CEST', ns) is not None else None\n",
    "                cfop = produtos.find('nfe:CFOP', ns).text if produtos.find('nfe:CFOP', ns) is not None else None\n",
    "                vprod = produtos.find('nfe:vProd', ns).text if produtos.find('nfe:vProd', ns) is not None else None\n",
    "                vdesc = produtos.find('nfe:vDesc', ns).text if produtos.find('nfe:vDesc', ns) is not None else None\n",
    "\n",
    "                # Capturar os dados dos impostos (ICMS e PIS)\n",
    "                imposto = det.find('nfe:imposto', ns)\n",
    "                cst_icms = origem_prod = vBC_icms = pICMS = vICMS = None\n",
    "                if imposto is not None:\n",
    "                    icms00 = imposto.find('nfe:ICMS/nfe:ICMS00', ns)\n",
    "                    if icms00 is not None:\n",
    "                        origem_prod = icms00.find('nfe:orig', ns).text if icms00.find('nfe:orig', ns) is not None else None\n",
    "                        cst_icms = icms00.find('nfe:CST', ns).text if icms00.find('nfe:CST', ns) is not None else None\n",
    "                        vBC_icms = icms00.find('nfe:vBC', ns).text if icms00.find('nfe:vBC', ns) is not None else None\n",
    "                        pICMS = icms00.find('nfe:pICMS', ns).text if icms00.find('nfe:pICMS', ns) is not None else None\n",
    "                        vICMS = icms00.find('nfe:vICMS', ns).text if icms00.find('nfe:vICMS', ns) is not None else None\n",
    "\n",
    "                cst_icms10 = origem_prod10 = vBC_icms10 = pICMS10 = vICMS10 = vBC_icms_ST = pICMS_ST = vICMS_ST = None\n",
    "\n",
    "                if imposto is not None:\n",
    "                    icms10 = imposto.find('nfe:ICMS/nfe:ICMS10', ns) if imposto is not None else None\n",
    "                    if icms10 is not None:\n",
    "                        origem_prod10 = icms10.find('nfe:orig', ns).text if icms10 is not None else None\n",
    "                        cst_icms10 = icms10.find('nfe:CST', ns).text if icms10 is not None else None\n",
    "                        vBC_icms10 = icms10.find('nfe:vBC', ns).text if icms10 is not None else None\n",
    "                        pICMS10 = icms10.find('nfe:pICMS', ns).text if icms10 is not None else None\n",
    "                        vICMS10 = icms10.find('nfe:vICMS', ns).text if icms10 is not None else None\n",
    "                        vBC_icms_ST = icms10.find('nfe:vBC', ns).text if icms10 is not None else None\n",
    "                        pICMS_ST = icms10.find('nfe:pICMS', ns).text if icms10 is not None else None\n",
    "                        vICMS_ST = icms10.find('nfe:vICMS', ns).text if icms10 is not None else None\n",
    "\n",
    "                origem_prod61 = cst_icms61 = vBC_icms61 = pICMS61 = vICMS61 = None\n",
    "\n",
    "                if imposto is not None:\n",
    "                    icms61 = imposto.find('nfe:ICMS/nfe:ICMS61', ns) if imposto is not None else None\n",
    "                    if icms61 is not None:\n",
    "                        origem_prod61 = icms61.find('nfe:orig', ns).text if icms61 is not None else None\n",
    "                        cst_icms61 = icms61.find('nfe:CST', ns).text if icms61 is not None else None\n",
    "                        vBC_icms61 = icms61.find('nfe:qBCMonoRet', ns).text if icms61 is not None else None\n",
    "                        pICMS61 = icms61.find('nfe:adRemICMSRet', ns).text if icms61 is not None else None\n",
    "                        vICMS61 = icms61.find('nfe:vICMSMonoRet', ns).text if icms61 is not None else None\n",
    "\n",
    "\n",
    "                # Capturar os dados do Pis\n",
    "                cst_pis = vBC_pis = pPIS = vPIS = cst_cofins = vBC_cofins = pCOFINS = vCOFINS = None\n",
    "                cst_pis_nt = vBC_pis_nt = pPIS_nt = vPIS_nt = cst_cofins_nt = vBC_cofins_nt = pCOFINS_nt = vCOFINS_nt = None\n",
    "\n",
    "                if imposto is not None:\n",
    "\n",
    "                    pisaliq = imposto.find('nfe:PIS/nfe:PISAliq', ns) if imposto is not None else None\n",
    "                    if pisaliq is not None:\n",
    "                        cst_pis = pisaliq.find('nfe:CST', ns).text if pisaliq is not None else None\n",
    "                        vBC_pis = pisaliq.find('nfe:vBC',ns).text if pisaliq is not None else None\n",
    "                        pPIS = pisaliq.find('nfe:pPIS', ns).text if pisaliq is not None else None\n",
    "                        vPIS = pisaliq.find('nfe:vPIS', ns).text if pisaliq is not None else None\n",
    "\n",
    "                    Cofinsaliq = imposto.find('nfe:COFINS/nfe:COFINSAliq', ns) if imposto is not None else None\n",
    "                    if Cofinsaliq is not None:\n",
    "                        cst_cofins = Cofinsaliq.find('nfe:CST', ns).text if Cofinsaliq is not None else None\n",
    "                        vBC_cofins = Cofinsaliq.find('nfe:vBC',ns).text if Cofinsaliq is not None else None\n",
    "                        pCOFINS = Cofinsaliq.find('nfe:pCOFINS', ns).text if Cofinsaliq is not None else None\n",
    "                        vCOFINS = Cofinsaliq.find('nfe:vCOFINS', ns).text if Cofinsaliq is not None else None\n",
    "\n",
    "                    pisnt = imposto.find('nfe:PIS/nfe:PISNT', ns) if imposto is not None else None\n",
    "                    if pisnt is not None:\n",
    "                        cst_pis_nt = pisnt.find('nfe:CST', ns).text if pisnt is not None else None\n",
    "\n",
    "                    cofinsnt = imposto.find('nfe:COFINS/nfe:COFINSNT', ns) if imposto is not None else None\n",
    "                    if cofinsnt is not None:\n",
    "                        cst_cofins_nt = cofinsnt.find('nfe:CST', ns).text if cofinsnt is not None else None\n",
    "\n",
    "                # Adicionar o produto como um registro ao dataframes\n",
    "                dataframes.append({\n",
    "                    'Nat_Operacao': nat_op,\n",
    "                    'Chave_Acesso': chave_acesso,\n",
    "                    'Numero NF': numero_nota,\n",
    "                    'Data_Emissao': data_emissao,\n",
    "                    'CNPJ Emitente': cnpj_emitente,\n",
    "                    'Nome Emitente': emitente_nome,\n",
    "                    'UF_Emitente': uf_emitente,\n",
    "                    'CNPJ_Destinatário': cnpj_destinatario,\n",
    "                    'Nome_Destinatário': destinatario_nome,\n",
    "                    'UF_Destinatário': uf_destinatario,\n",
    "                    'Código EAN': cod_ean,\n",
    "                    'Nome Produto': nome_produto,\n",
    "                    'NCM': ncm,\n",
    "                    'CFOP': cfop,\n",
    "                    'CEST': cest,\n",
    "                    'Origem Produto': origem_prod,\n",
    "                    'CST-ICMS': cst_icms,\n",
    "                    'Vlr_Produto': vprod,\n",
    "                    'BC-ICMS': vBC_icms,\n",
    "                    'Per_ICMS': pICMS,\n",
    "                    'vlr_ICMS': vICMS,\n",
    "                    'Orig_Prod10': origem_prod10,\n",
    "                    'CST_ICMS10': cst_icms10,\n",
    "                    'BC-ICMS10': vBC_icms10,\n",
    "                    'Per_ICMS10': pICMS10,\n",
    "                    'vlr_ICMS10': vICMS10,\n",
    "                    'BC_ICMS-ST': vBC_icms_ST,\n",
    "                    'Per_ICMS-ST': pICMS_ST,\n",
    "                    'Vlr_ICMS-ST': vICMS_ST,\n",
    "                    'Orig_Prod61': origem_prod61,\n",
    "                    'BC-ICMS61': vBC_icms61,\n",
    "                    'Per_ICMS61': pICMS61,\n",
    "                    'vlr_ICMS61': vICMS61,\n",
    "                    'CST_PIS': cst_pis,\n",
    "                    'BC_Pis': vBC_pis,\n",
    "                    'Per_Pis': pPIS,\n",
    "                    'Vlr_Pis': vPIS,\n",
    "                    'CST_COFINS': cst_cofins,\n",
    "                    'BC_Cofins': vBC_cofins,\n",
    "                    'Per_Cofins': pCOFINS,\n",
    "                    'Vlr_Cofins': vCOFINS,\n",
    "                    'CST_PIS_NT': cst_pis_nt,\n",
    "                    'CST_COFINS_NT': cst_cofins_nt\n",
    "                })\n",
    "\n",
    "# Criar um DataFrame com os dados de todos os arquivos\n",
    "df = pd.DataFrame(dataframes)\n"
   ]
  },
  {
   "cell_type": "code",
   "execution_count": null,
   "metadata": {
    "executionInfo": {
     "elapsed": 6,
     "status": "ok",
     "timestamp": 1737997409836,
     "user": {
      "displayName": "Danimar Grando",
      "userId": "18353145578900037992"
     },
     "user_tz": 180
    },
    "id": "ovECAu0sPVLa"
   },
   "outputs": [],
   "source": [
    "# Amostra dos dados\n",
    "df.sample(10)"
   ]
  },
  {
   "cell_type": "code",
   "execution_count": null,
   "metadata": {},
   "outputs": [],
   "source": [
    "df.isnull().sum()"
   ]
  },
  {
   "cell_type": "code",
   "execution_count": null,
   "metadata": {},
   "outputs": [],
   "source": [
    "df[df['CNPJ Emitente'].isna()]"
   ]
  },
  {
   "cell_type": "code",
   "execution_count": null,
   "metadata": {
    "colab": {
     "base_uri": "https://localhost:8080/"
    },
    "executionInfo": {
     "elapsed": 7,
     "status": "ok",
     "timestamp": 1737997409837,
     "user": {
      "displayName": "Danimar Grando",
      "userId": "18353145578900037992"
     },
     "user_tz": 180
    },
    "id": "H2E8sFqSuIQX",
    "outputId": "fb8131aa-3cdb-4655-f530-dee131175780",
    "scrolled": true
   },
   "outputs": [],
   "source": [
    "# Verificando os nomes das colunas\n",
    "df.columns"
   ]
  },
  {
   "cell_type": "code",
   "execution_count": null,
   "metadata": {
    "colab": {
     "base_uri": "https://localhost:8080/"
    },
    "executionInfo": {
     "elapsed": 4,
     "status": "ok",
     "timestamp": 1737997409837,
     "user": {
      "displayName": "Danimar Grando",
      "userId": "18353145578900037992"
     },
     "user_tz": 180
    },
    "id": "OJZg4WsN21yg",
    "outputId": "c1747f9b-165f-4fb1-cd00-bda358be1d08"
   },
   "outputs": [],
   "source": [
    "# Tamanho do dataset.\n",
    "df.shape"
   ]
  },
  {
   "cell_type": "code",
   "execution_count": null,
   "metadata": {
    "executionInfo": {
     "elapsed": 3,
     "status": "ok",
     "timestamp": 1737997409837,
     "user": {
      "displayName": "Danimar Grando",
      "userId": "18353145578900037992"
     },
     "user_tz": 180
    },
    "id": "dJEpAJn_21yh"
   },
   "outputs": [],
   "source": [
    "# Converter colunas numéricas\n",
    "cols_num_float = ['BC-ICMS','BC-ICMS61','vlr_ICMS61' ,'vlr_ICMS','BC-ICMS10', 'vlr_ICMS10', 'BC_ICMS-ST','Vlr_ICMS-ST','Vlr_Produto','BC_Pis', 'Per_Pis','Vlr_Pis','BC_Cofins',\n",
    "                  'Per_Cofins', 'Vlr_Cofins']\n",
    "df[cols_num_float]= df[cols_num_float].apply(lambda col: pd.to_numeric(col, errors='coerce', downcast='float').round(2))"
   ]
  },
  {
   "cell_type": "code",
   "execution_count": null,
   "metadata": {
    "executionInfo": {
     "elapsed": 3,
     "status": "ok",
     "timestamp": 1737997409837,
     "user": {
      "displayName": "Danimar Grando",
      "userId": "18353145578900037992"
     },
     "user_tz": 180
    },
    "id": "imZE6Ax621yh"
   },
   "outputs": [],
   "source": [
    "cols_int = ['Per_ICMS','Per_ICMS10','Per_ICMS-ST']\n",
    "df[cols_int] = df[cols_int].apply(pd.to_numeric, errors='coerce', downcast='integer')"
   ]
  },
  {
   "cell_type": "code",
   "execution_count": null,
   "metadata": {
    "executionInfo": {
     "elapsed": 3,
     "status": "ok",
     "timestamp": 1737997409837,
     "user": {
      "displayName": "Danimar Grando",
      "userId": "18353145578900037992"
     },
     "user_tz": 180
    },
    "id": "Jh--QtiP21yh"
   },
   "outputs": [],
   "source": [
    "# Converter coluna de data\n",
    "df['Data_Emissao'] = pd.to_datetime(df['Data_Emissao'], utc=True).dt.strftime('%Y-%m-%d')\n",
    "\n",
    "# Na conversão anterior a coluna continuará sendo string, portanto precisamos fazer a conversão novamente, porém sem dt.strftime()\n",
    "df['Data_Emissao'] = pd.to_datetime(df['Data_Emissao'])"
   ]
  },
  {
   "cell_type": "code",
   "execution_count": null,
   "metadata": {
    "colab": {
     "base_uri": "https://localhost:8080/",
     "height": 706
    },
    "executionInfo": {
     "elapsed": 345,
     "status": "ok",
     "timestamp": 1737997410180,
     "user": {
      "displayName": "Danimar Grando",
      "userId": "18353145578900037992"
     },
     "user_tz": 180
    },
    "id": "ppa_kGLJ21yh",
    "outputId": "6a71f29b-0679-4b40-bfeb-e33a059dbee6"
   },
   "outputs": [],
   "source": [
    "# Verificando o formato da data.\n",
    "df.head()"
   ]
  },
  {
   "cell_type": "code",
   "execution_count": null,
   "metadata": {
    "colab": {
     "base_uri": "https://localhost:8080/"
    },
    "executionInfo": {
     "elapsed": 16,
     "status": "ok",
     "timestamp": 1737997410180,
     "user": {
      "displayName": "Danimar Grando",
      "userId": "18353145578900037992"
     },
     "user_tz": 180
    },
    "id": "w3vx7YLr21yh",
    "outputId": "77c6a6ef-1970-4cb6-9242-da93291da8ad"
   },
   "outputs": [],
   "source": [
    "# Informaçõs do dataset\n",
    "df.info()"
   ]
  },
  {
   "cell_type": "code",
   "execution_count": null,
   "metadata": {
    "colab": {
     "base_uri": "https://localhost:8080/"
    },
    "executionInfo": {
     "elapsed": 14,
     "status": "ok",
     "timestamp": 1737997410180,
     "user": {
      "displayName": "Danimar Grando",
      "userId": "18353145578900037992"
     },
     "user_tz": 180
    },
    "id": "ZrScX0dz21yh",
    "outputId": "debb16cc-bc3c-45fa-e4e8-e7b71c581648"
   },
   "outputs": [],
   "source": [
    "# o DataFrame apresenta valores nulos ou ausentes apenas nas colunas numéricas, desta forma preencheremos os mesmos com \"0\"\n",
    "df = df.fillna(0)"
   ]
  },
  {
   "cell_type": "code",
   "execution_count": null,
   "metadata": {
    "colab": {
     "base_uri": "https://localhost:8080/",
     "height": 1000
    },
    "executionInfo": {
     "elapsed": 10,
     "status": "ok",
     "timestamp": 1737997410180,
     "user": {
      "displayName": "Danimar Grando",
      "userId": "18353145578900037992"
     },
     "user_tz": 180
    },
    "id": "6ei1gABU21yh",
    "outputId": "b368c063-740f-4d2f-bb86-2292858c831b"
   },
   "outputs": [],
   "source": [
    "# Verificando se há valores nulos ainda\n",
    "df.isnull().sum()"
   ]
  },
  {
   "cell_type": "code",
   "execution_count": null,
   "metadata": {
    "colab": {
     "base_uri": "https://localhost:8080/",
     "height": 706
    },
    "executionInfo": {
     "elapsed": 9,
     "status": "ok",
     "timestamp": 1737997410180,
     "user": {
      "displayName": "Danimar Grando",
      "userId": "18353145578900037992"
     },
     "user_tz": 180
    },
    "id": "4SDMa_Eu21yh",
    "outputId": "d7fca9f8-b5d7-47de-e8db-4c584126edf6"
   },
   "outputs": [],
   "source": [
    "# Amostra dos dados após conversão dos valores nulos\n",
    "df.head()"
   ]
  },
  {
   "cell_type": "code",
   "execution_count": null,
   "metadata": {
    "executionInfo": {
     "elapsed": 7,
     "status": "ok",
     "timestamp": 1737997410180,
     "user": {
      "displayName": "Danimar Grando",
      "userId": "18353145578900037992"
     },
     "user_tz": 180
    },
    "id": "fxiEx9Snhl5o"
   },
   "outputs": [],
   "source": [
    "# Inserindo novas colunas para Base de cálculo do ICMS e Valor do ICMS, concatenando as colunas com ICMS61 e ICMS\n",
    "df['BC_ICMS'] = df['BC-ICMS'] + df['BC-ICMS61']\n",
    "df['VLR_ICMS'] = df['vlr_ICMS'] + df['vlr_ICMS61']\n",
    "\n",
    "# Calcular um valor na coluna BC_Pis e Vlr_Pis subtraindo o valor da coluna VLR_ICMS da coluna bc_icms\n",
    "df['BC_PIS_Calc'] = df['Vlr_Produto'] - df['VLR_ICMS']\n",
    "df['VLR_PIS_Calc'] = df['BC_PIS_Calc'] * 0.0165\n",
    "\n",
    "df['BC_Cofins_Calc'] = df['Vlr_Produto'] - df['VLR_ICMS']\n",
    "df['VLR_Cofins_Calc'] = df['BC_Cofins_Calc'] * 0.076"
   ]
  },
  {
   "cell_type": "code",
   "execution_count": null,
   "metadata": {
    "executionInfo": {
     "elapsed": 1629,
     "status": "ok",
     "timestamp": 1737997411802,
     "user": {
      "displayName": "Danimar Grando",
      "userId": "18353145578900037992"
     },
     "user_tz": 180
    },
    "id": "pm1TFypf21yi"
   },
   "outputs": [],
   "source": [
    "# Exportar para CSV\n",
    "df.to_excel('notas_fiscais_fornecedores.xlsx')"
   ]
  },
  {
   "cell_type": "code",
   "execution_count": null,
   "metadata": {
    "executionInfo": {
     "elapsed": 5,
     "status": "ok",
     "timestamp": 1737997411803,
     "user": {
      "displayName": "Danimar Grando",
      "userId": "18353145578900037992"
     },
     "user_tz": 180
    },
    "id": "ymfKvd8e21yi"
   },
   "outputs": [],
   "source": [
    "#%watermark --iversions"
   ]
  },
  {
   "cell_type": "markdown",
   "metadata": {
    "id": "bLC0e1CvptG-"
   },
   "source": [
    "## Dashboard\n"
   ]
  },
  {
   "cell_type": "code",
   "execution_count": null,
   "metadata": {
    "colab": {
     "base_uri": "https://localhost:8080/"
    },
    "executionInfo": {
     "elapsed": 5237,
     "status": "ok",
     "timestamp": 1737996379879,
     "user": {
      "displayName": "Danimar Grando",
      "userId": "18353145578900037992"
     },
     "user_tz": 180
    },
    "id": "lJWOyE9-p-Ul",
    "outputId": "c1eb7534-eb25-4328-90e5-9284d1a44051"
   },
   "outputs": [],
   "source": [
    "#!pip install -q dash"
   ]
  },
  {
   "cell_type": "code",
   "execution_count": null,
   "metadata": {
    "colab": {
     "base_uri": "https://localhost:8080/"
    },
    "executionInfo": {
     "elapsed": 3580,
     "status": "ok",
     "timestamp": 1737998064699,
     "user": {
      "displayName": "Danimar Grando",
      "userId": "18353145578900037992"
     },
     "user_tz": 180
    },
    "id": "f2WxrK8PwcTT",
    "outputId": "7c3e281a-edf9-422c-b533-cc9bc8892926"
   },
   "outputs": [],
   "source": [
    "!pip install pyngrok"
   ]
  },
  {
   "cell_type": "code",
   "execution_count": null,
   "metadata": {
    "executionInfo": {
     "elapsed": 4250,
     "status": "ok",
     "timestamp": 1737998285963,
     "user": {
      "displayName": "Danimar Grando",
      "userId": "18353145578900037992"
     },
     "user_tz": 180
    },
    "id": "EBsRC9KrxLJ4"
   },
   "outputs": [],
   "source": [
    "!pip install -q flask"
   ]
  },
  {
   "cell_type": "code",
   "execution_count": null,
   "metadata": {
    "colab": {
     "base_uri": "https://localhost:8080/",
     "height": 487
    },
    "executionInfo": {
     "elapsed": 1013,
     "status": "error",
     "timestamp": 1737998298910,
     "user": {
      "displayName": "Danimar Grando",
      "userId": "18353145578900037992"
     },
     "user_tz": 180
    },
    "id": "rGYjPkK9pwax",
    "outputId": "553cb85a-db40-411d-ca4b-85423a13158d"
   },
   "outputs": [],
   "source": [
    "# Import packages\n",
    "from dash import Dash, html, dash_table, dcc\n",
    "import pandas as pd\n",
    "import plotly.express as px\n",
    "import pyngrok\n",
    "from pyngrok import ngrok\n",
    "from flask import Flask\n",
    "\n",
    "\n",
    "# Incorporate data\n",
    "#df = pd.read_excel('notas_fiscais_fornecedores.xlsx', sep=';')\n",
    "df['Data_Emissao'] = pd.to_datetime(df['Data_Emissao'])\n",
    "df['ano'] = df['Data_Emissao'].dt.year\n",
    "agrupado = df[['ano','BC_ICMS-ST']].groupby('ano').sum().reset_index()\n",
    "tabela1 = df[['Numero NF', 'Nome Emitente','Nome Produto', 'NCM', 'Vlr_Produto']]\n",
    "# Initialize the app\n",
    "server = Flask(__name__)\n",
    "app = Dash(__name__, server=server)\n",
    "\n",
    "# App layout\n",
    "app.layout = [\n",
    "    html.Div(children='My First App with Data and a Graph'),\n",
    "    dash_table.DataTable(style_data={'lineHeight': '15px'},\n",
    "                         data=tabela1.to_dict('records'),\n",
    "                         page_size=5,columns=[{'id': c, 'name': c} for c in tabela1.columns]),\n",
    "    dcc.Graph(figure=px.bar(agrupado, x='ano', y='BC_ICMS-ST'))\n",
    "]\n",
    "\n",
    "\n",
    "# Configurar o ngrok\n",
    "public_url = ngrok.connect(8050)  # Porta do Dash\n",
    "print(\"URL público:\", public_url)\n",
    "\n",
    "# Run the app\n",
    "if __name__ == '__main__':\n",
    "    #app.run(debug=True),\n",
    "    app.run_server(debug=True, port=8050)  # Porta alterada para 8051"
   ]
  },
  {
   "cell_type": "code",
   "execution_count": null,
   "metadata": {
    "id": "tyt96m6lwsvE"
   },
   "outputs": [],
   "source": [
    "URL público: http://<algum-link>.ngrok.io\n"
   ]
  }
 ],
 "metadata": {
  "colab": {
   "provenance": []
  },
  "kernelspec": {
   "display_name": "Python 3 (ipykernel)",
   "language": "python",
   "name": "python3"
  },
  "language_info": {
   "codemirror_mode": {
    "name": "ipython",
    "version": 3
   },
   "file_extension": ".py",
   "mimetype": "text/x-python",
   "name": "python",
   "nbconvert_exporter": "python",
   "pygments_lexer": "ipython3",
   "version": "3.11.7"
  },
  "toc": {
   "base_numbering": 1,
   "nav_menu": {
    "height": "12px",
    "width": "222px"
   },
   "number_sections": true,
   "sideBar": true,
   "skip_h1_title": false,
   "title_cell": "Table of Contents",
   "title_sidebar": "Contents",
   "toc_cell": false,
   "toc_position": {},
   "toc_section_display": true,
   "toc_window_display": false
  }
 },
 "nbformat": 4,
 "nbformat_minor": 1
}
